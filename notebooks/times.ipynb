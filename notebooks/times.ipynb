{
 "cells": [
  {
   "cell_type": "code",
   "execution_count": 1,
   "metadata": {},
   "outputs": [],
   "source": [
    "import time\n",
    "import torch\n",
    "import torch.nn as nn\n",
    "import torch.nn.functional as F\n",
    "import matplotlib.pyplot as plt \n",
    "\n",
    "from aspp import Gate\n",
    "from nl import NL1D"
   ]
  },
  {
   "cell_type": "code",
   "execution_count": 2,
   "metadata": {},
   "outputs": [],
   "source": [
    "class SingleConv(nn.Module):\n",
    "    \"\"\"(convolution => [BN] => ReLU) * 1\"\"\"\n",
    "\n",
    "    def __init__(self, in_channels, out_channels):\n",
    "        super().__init__()\n",
    "        self.single_conv = nn.Sequential(\n",
    "            nn.Conv2d(\n",
    "                in_channels,\n",
    "                out_channels,\n",
    "                kernel_size=3,\n",
    "                padding=1,\n",
    "                bias=False,\n",
    "                padding_mode=\"reflect\",\n",
    "            ),\n",
    "            nn.BatchNorm2d(out_channels),\n",
    "            nn.ReLU(inplace=True),\n",
    "        )\n",
    "\n",
    "    def forward(self, x):\n",
    "        return self.single_conv(x)"
   ]
  },
  {
   "cell_type": "code",
   "execution_count": 44,
   "metadata": {},
   "outputs": [
    {
     "name": "stdout",
     "output_type": "stream",
     "text": [
      "NL1D:\t    0.4127999360114336 ms\n",
      "Gate:\t    0.6745290882587432 ms\n",
      "SingleConv: 0.2313829764574766 ms\n"
     ]
    },
    {
     "data": {
      "text/plain": [
       "<matplotlib.legend.Legend at 0x723e204fbb20>"
      ]
     },
     "execution_count": 44,
     "metadata": {},
     "output_type": "execute_result"
    },
    {
     "data": {
      "image/png": "[encoded data removed]",
      "text/plain": [
       "<Figure size 640x480 with 1 Axes>"
      ]
     },
     "metadata": {},
     "output_type": "display_data"
    }
   ],
   "source": [
    "# Test times of the modules\n",
    "\n",
    "in_channels = 8\n",
    "mid_channels = in_channels//2\n",
    "size1 = 400#1536\n",
    "size2 = 32\n",
    "t = 500\n",
    "\n",
    "def timing(in_channels, mid_channels, size1, size2, t):\n",
    "    gate = Gate(in_channels, mid_channels).cuda()\n",
    "    nl1d = NL1D(in_channels, mid_channels).cuda()\n",
    "    single_conv = SingleConv(in_channels, in_channels).cuda()\n",
    "\n",
    "\n",
    "    times1 = []\n",
    "    for _ in range(t):\n",
    "        x = torch.randn(4, in_channels, size1, size2).cuda()\n",
    "        start_event = torch.cuda.Event(enable_timing=True)\n",
    "        end_event = torch.cuda.Event(enable_timing=True)\n",
    "        \n",
    "        start_event.record()\n",
    "        y = nl1d(x)\n",
    "        end_event.record()\n",
    "        \n",
    "        torch.cuda.synchronize()\n",
    "        times1.append(start_event.elapsed_time(end_event))\n",
    "    print(f\"NL1D:\\t    {sum(times1) / len(times1)} ms\")\n",
    "\n",
    "    times2 = []\n",
    "    for _ in range(t):\n",
    "        x = torch.randn(4, in_channels//2, size1, size2).cuda()\n",
    "        g = torch.randn(4, in_channels, size1//2, size2//2).cuda()\n",
    "        start_event = torch.cuda.Event(enable_timing=True)\n",
    "        end_event = torch.cuda.Event(enable_timing=True)\n",
    "        \n",
    "        start_event.record()\n",
    "        y = gate(x, g)\n",
    "        end_event.record()\n",
    "        \n",
    "        torch.cuda.synchronize()\n",
    "        times2.append(start_event.elapsed_time(end_event))\n",
    "    print(f\"Gate:\\t    {sum(times2) / len(times2)} ms\")\n",
    "\n",
    "    times3 = []\n",
    "    for _ in range(t):\n",
    "        x = torch.randn(4, in_channels, size1, size2).cuda()\n",
    "        start_event = torch.cuda.Event(enable_timing=True)\n",
    "        end_event = torch.cuda.Event(enable_timing=True)\n",
    "        \n",
    "        start_event.record()\n",
    "        y = single_conv(x)\n",
    "        end_event.record()\n",
    "        \n",
    "        torch.cuda.synchronize()\n",
    "        times3.append(start_event.elapsed_time(end_event))\n",
    "    print(f\"SingleConv: {sum(times3) / len(times3)} ms\")\n",
    "    return times1, times2, times3\n",
    "\n",
    "times1, times2, times3 = timing(in_channels, mid_channels, size1, size2, t)\n",
    "plt.hist([times1, times2, times3], bins=30, color=['r','g','b'], label=['NL1D', 'Gate', \"SingleConv\"])\n",
    "plt.legend()"
   ]
  },
  {
   "cell_type": "code",
   "execution_count": null,
   "metadata": {},
   "outputs": [],
   "source": []
  }
 ],
 "metadata": {
  "kernelspec": {
   "display_name": "Python 3",
   "language": "python",
   "name": "python3"
  },
  "language_info": {
   "codemirror_mode": {
    "name": "ipython",
    "version": 3
   },
   "file_extension": ".py",
   "mimetype": "text/x-python",
   "name": "python",
   "nbconvert_exporter": "python",
   "pygments_lexer": "ipython3",
   "version": "3.10.12"
  }
 },
 "nbformat": 4,
 "nbformat_minor": 2
}
